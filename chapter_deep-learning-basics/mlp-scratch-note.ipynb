{
 "cells": [
  {
   "cell_type": "markdown",
   "metadata": {},
   "source": [
    "## 3.9 多层感知机的从零开始实现"
   ]
  },
  {
   "cell_type": "markdown",
   "metadata": {},
   "source": [
    "我们已经从上一节里了解了多层感知机的原理。下面，我们一起来动手实现一个多层感知机。首先导入实现所需的包或模块。"
   ]
  },
  {
   "cell_type": "code",
   "execution_count": 1,
   "metadata": {},
   "outputs": [],
   "source": [
    "%matplotlib inline\n",
    "import d2lzh as d2l\n",
    "from mxnet import nd\n",
    "from mxnet.gluon import loss as gloss"
   ]
  },
  {
   "cell_type": "markdown",
   "metadata": {},
   "source": [
    "### 3.9.1 读取数据集"
   ]
  },
  {
   "cell_type": "markdown",
   "metadata": {},
   "source": [
    "这里继续使用Fashion-MNIST数据集。我们将使用多层感知机对图像进行分类。"
   ]
  },
  {
   "cell_type": "code",
   "execution_count": 2,
   "metadata": {},
   "outputs": [],
   "source": [
    "batch_size = 256\n",
    "train_iter, test_iter = d2l.load_data_fashion_mnist(batch_size)"
   ]
  },
  {
   "cell_type": "markdown",
   "metadata": {},
   "source": [
    "### 3.9.2 定义模型参数"
   ]
  },
  {
   "cell_type": "markdown",
   "metadata": {},
   "source": [
    "我们在[“softmax回归的从零开始实现”](softmax-regression-scratch.ipynb)一节里已经介绍了，Fashion-MNIST数据集中图像形状为$28 \\times 28$，类别数为10。本节中我们依然使用长度为$28 \\times 28 = 784$的向量表示每一张图像。因此，输入个数为784，输出个数为10。实验中，我们设超参数隐藏单元个数为256。"
   ]
  },
  {
   "cell_type": "code",
   "execution_count": 3,
   "metadata": {},
   "outputs": [],
   "source": [
    "num_inputs, num_outputs, num_hiddens = 784, 10, 256\n",
    "\n",
    "W1 = nd.random_normal(scale=0.01, shape=(num_inputs, num_hiddens))\n",
    "b1 = nd.zeros(num_hiddens)\n",
    "W2 = nd.random_normal(scale=0.01, shape=(num_hiddens, num_outputs))\n",
    "b2 = nd.zeros(num_outputs)\n",
    "params = [W1, b1, W2, b2]\n",
    "\n",
    "for param in params:\n",
    "    param.attach_grad()"
   ]
  },
  {
   "cell_type": "markdown",
   "metadata": {},
   "source": [
    "### 3.9.3 定义激活函数"
   ]
  },
  {
   "cell_type": "markdown",
   "metadata": {},
   "source": [
    "这里我们使用基础的maximum函数来实现ReLU，而非直接调用MXNet的relu函数。"
   ]
  },
  {
   "cell_type": "code",
   "execution_count": 4,
   "metadata": {},
   "outputs": [],
   "source": [
    "def relu(X):\n",
    "    return nd.maximum(X, 0)"
   ]
  },
  {
   "cell_type": "markdown",
   "metadata": {},
   "source": [
    "### 3.9.4 定义模型"
   ]
  },
  {
   "cell_type": "markdown",
   "metadata": {},
   "source": [
    "同softmax回归一样，我们通过reshape函数将每张原始图像改成长度为num_inputs的向量。然后我们实现上一节中多层感知机的计算表达式。"
   ]
  },
  {
   "cell_type": "code",
   "execution_count": 5,
   "metadata": {},
   "outputs": [],
   "source": [
    "def net(X):\n",
    "    X = X.reshape((-1, num_inputs))\n",
    "    H = relu(nd.dot(X, W1) + b1)\n",
    "    return nd.dot(H, W2) + b2"
   ]
  },
  {
   "cell_type": "markdown",
   "metadata": {},
   "source": [
    "### 3.9.5 定义损失函数"
   ]
  },
  {
   "cell_type": "markdown",
   "metadata": {},
   "source": [
    "为了得到更好的数值稳定性，我们直接使用Gluon提供的包括softmax运算和交叉熵损失计算的函数。"
   ]
  },
  {
   "cell_type": "code",
   "execution_count": 6,
   "metadata": {},
   "outputs": [],
   "source": [
    "loss = gloss.SoftmaxCrossEntropyLoss()"
   ]
  },
  {
   "cell_type": "markdown",
   "metadata": {},
   "source": [
    "### 3.9.6 训练模型"
   ]
  },
  {
   "cell_type": "markdown",
   "metadata": {},
   "source": [
    "训练多层感知机的步骤和[“softmax回归的从零开始实现”](softmax-regression-scratch.ipynb)一节中训练softmax回归的步骤没什么区别。我们直接调用d2lzh包中的train_ch3函数，它的实现已经在[“softmax回归的从零开始实现”](softmax-regression-scratch.ipynb)一节里介绍过。我们在这里设超参数迭代周期数为20，学习率0.5。"
   ]
  },
  {
   "cell_type": "code",
   "execution_count": 7,
   "metadata": {},
   "outputs": [
    {
     "name": "stdout",
     "output_type": "stream",
     "text": [
      "epoch 1, loss 0.8141, train acc 0.698, test acc 0.813\n",
      "epoch 2, loss 0.4857, train acc 0.818, test acc 0.849\n",
      "epoch 3, loss 0.4286, train acc 0.842, test acc 0.856\n",
      "epoch 4, loss 0.4019, train acc 0.851, test acc 0.863\n",
      "epoch 5, loss 0.3749, train acc 0.863, test acc 0.867\n",
      "epoch 6, loss 0.3572, train acc 0.870, test acc 0.874\n",
      "epoch 7, loss 0.3426, train acc 0.874, test acc 0.870\n",
      "epoch 8, loss 0.3269, train acc 0.879, test acc 0.866\n",
      "epoch 9, loss 0.3195, train acc 0.881, test acc 0.884\n",
      "epoch 10, loss 0.3072, train acc 0.887, test acc 0.884\n",
      "epoch 11, loss 0.3011, train acc 0.887, test acc 0.885\n",
      "epoch 12, loss 0.2926, train acc 0.892, test acc 0.885\n",
      "epoch 13, loss 0.2862, train acc 0.894, test acc 0.883\n",
      "epoch 14, loss 0.2816, train acc 0.896, test acc 0.882\n",
      "epoch 15, loss 0.2733, train acc 0.898, test acc 0.884\n",
      "epoch 16, loss 0.2666, train acc 0.902, test acc 0.890\n",
      "epoch 17, loss 0.2616, train acc 0.903, test acc 0.892\n",
      "epoch 18, loss 0.2551, train acc 0.905, test acc 0.884\n",
      "epoch 19, loss 0.2518, train acc 0.905, test acc 0.890\n",
      "epoch 20, loss 0.2480, train acc 0.908, test acc 0.890\n"
     ]
    }
   ],
   "source": [
    "num_epochs, lr = 20, 0.5\n",
    "d2l.train_ch3(net, train_iter, test_iter, loss, num_epochs, batch_size,\n",
    "             params, lr)"
   ]
  },
  {
   "cell_type": "markdown",
   "metadata": {},
   "source": [
    "## 小结"
   ]
  },
  {
   "cell_type": "markdown",
   "metadata": {},
   "source": [
    "- 可以通过手动定义模型及其参数来实现简单的多层感知机。\n",
    "- 当多层感知机的层数较多时，本节的实现方法会显得较繁琐，如在定义模型参数的时候。"
   ]
  },
  {
   "cell_type": "markdown",
   "metadata": {},
   "source": [
    "## 练习"
   ]
  },
  {
   "cell_type": "markdown",
   "metadata": {},
   "source": [
    "- 改变超参数num_hiddens的值，看看对实验结果有什么影响。"
   ]
  },
  {
   "cell_type": "code",
   "execution_count": 8,
   "metadata": {},
   "outputs": [
    {
     "name": "stdout",
     "output_type": "stream",
     "text": [
      "epoch 1, loss 0.2430, train acc 0.909, test acc 0.897\n",
      "epoch 2, loss 0.2382, train acc 0.909, test acc 0.891\n",
      "epoch 3, loss 0.2323, train acc 0.914, test acc 0.893\n",
      "epoch 4, loss 0.2314, train acc 0.914, test acc 0.892\n",
      "epoch 5, loss 0.2266, train acc 0.916, test acc 0.889\n",
      "epoch 6, loss 0.2236, train acc 0.917, test acc 0.894\n",
      "epoch 7, loss 0.2187, train acc 0.919, test acc 0.892\n",
      "epoch 8, loss 0.2212, train acc 0.918, test acc 0.896\n",
      "epoch 9, loss 0.2144, train acc 0.921, test acc 0.892\n",
      "epoch 10, loss 0.2084, train acc 0.922, test acc 0.893\n",
      "epoch 11, loss 0.2075, train acc 0.923, test acc 0.896\n",
      "epoch 12, loss 0.2027, train acc 0.924, test acc 0.891\n",
      "epoch 13, loss 0.2006, train acc 0.925, test acc 0.895\n",
      "epoch 14, loss 0.1993, train acc 0.927, test acc 0.890\n",
      "epoch 15, loss 0.1954, train acc 0.928, test acc 0.897\n",
      "epoch 16, loss 0.1924, train acc 0.929, test acc 0.897\n",
      "epoch 17, loss 0.1891, train acc 0.930, test acc 0.894\n",
      "epoch 18, loss 0.1863, train acc 0.931, test acc 0.894\n",
      "epoch 19, loss 0.1829, train acc 0.933, test acc 0.896\n",
      "epoch 20, loss 0.1817, train acc 0.932, test acc 0.892\n"
     ]
    }
   ],
   "source": [
    "# num_hiddens：256->128\n",
    "num_inputs, num_outputs, num_hiddens = 784, 10, 128\n",
    "\n",
    "num_epochs, lr = 20, 0.5\n",
    "d2l.train_ch3(net, train_iter, test_iter, loss, num_epochs, batch_size,\n",
    "             params, lr)"
   ]
  },
  {
   "cell_type": "markdown",
   "metadata": {},
   "source": [
    "- 试着加入一个新的隐藏层，看看对实验结果的影响。"
   ]
  },
  {
   "cell_type": "code",
   "execution_count": 10,
   "metadata": {},
   "outputs": [
    {
     "name": "stdout",
     "output_type": "stream",
     "text": [
      "epoch 1, loss 1.7072, train acc 0.350, test acc 0.629\n",
      "epoch 2, loss 0.8522, train acc 0.675, test acc 0.745\n",
      "epoch 3, loss 0.6602, train acc 0.757, test acc 0.786\n",
      "epoch 4, loss 0.5841, train acc 0.791, test acc 0.813\n",
      "epoch 5, loss 0.5309, train acc 0.811, test acc 0.830\n",
      "epoch 6, loss 0.4867, train acc 0.827, test acc 0.839\n",
      "epoch 7, loss 0.4579, train acc 0.836, test acc 0.846\n",
      "epoch 8, loss 0.4324, train acc 0.846, test acc 0.854\n",
      "epoch 9, loss 0.4164, train acc 0.850, test acc 0.855\n",
      "epoch 10, loss 0.4004, train acc 0.855, test acc 0.859\n",
      "epoch 11, loss 0.3866, train acc 0.859, test acc 0.866\n",
      "epoch 12, loss 0.3775, train acc 0.863, test acc 0.870\n",
      "epoch 13, loss 0.3648, train acc 0.868, test acc 0.869\n",
      "epoch 14, loss 0.3547, train acc 0.872, test acc 0.862\n",
      "epoch 15, loss 0.3450, train acc 0.874, test acc 0.871\n",
      "epoch 16, loss 0.3381, train acc 0.877, test acc 0.863\n",
      "epoch 17, loss 0.3324, train acc 0.880, test acc 0.875\n",
      "epoch 18, loss 0.3238, train acc 0.882, test acc 0.879\n",
      "epoch 19, loss 0.3168, train acc 0.886, test acc 0.882\n",
      "epoch 20, loss 0.3096, train acc 0.888, test acc 0.880\n"
     ]
    }
   ],
   "source": [
    "# 定义模型参数\n",
    "num_inputs, num_outputs, num_hiddens_1, num_hiddens_2 = 784, 10, 256, 256\n",
    "\n",
    "W1 = nd.random_normal(scale=0.01, shape=(num_inputs, num_hiddens_1))\n",
    "b1 = nd.zeros(num_hiddens_1)\n",
    "W2 = nd.random_normal(scale=0.01, shape=(num_hiddens_1, num_hiddens_2))\n",
    "b2 = nd.zeros(num_hiddens_2)\n",
    "W3 = nd.random_normal(scale=0.01, shape=(num_hiddens_2, num_outputs))\n",
    "b3 = nd.zeros(num_outputs)\n",
    "params = [W1, b1, W2, b2, W3, b3]\n",
    "\n",
    "for param in params:\n",
    "    param.attach_grad()\n",
    "\n",
    "# 定义模型\n",
    "def net(X):\n",
    "    X = X.reshape((-1, num_inputs))\n",
    "    H1 = relu(nd.dot(X, W1) + b1)\n",
    "    H2 = relu(nd.dot(H1, W2) + b2)\n",
    "    return nd.dot(H2, W3) + b3\n",
    "\n",
    "# 训练模型\n",
    "num_epochs, lr = 20, 0.1\n",
    "d2l.train_ch3(net, train_iter, test_iter, loss, num_epochs, batch_size,\n",
    "             params, lr)"
   ]
  },
  {
   "cell_type": "code",
   "execution_count": null,
   "metadata": {},
   "outputs": [],
   "source": []
  }
 ],
 "metadata": {
  "kernelspec": {
   "display_name": "Python 3",
   "language": "python",
   "name": "python3"
  },
  "language_info": {
   "codemirror_mode": {
    "name": "ipython",
    "version": 3
   },
   "file_extension": ".py",
   "mimetype": "text/x-python",
   "name": "python",
   "nbconvert_exporter": "python",
   "pygments_lexer": "ipython3",
   "version": "3.6.12"
  }
 },
 "nbformat": 4,
 "nbformat_minor": 4
}
