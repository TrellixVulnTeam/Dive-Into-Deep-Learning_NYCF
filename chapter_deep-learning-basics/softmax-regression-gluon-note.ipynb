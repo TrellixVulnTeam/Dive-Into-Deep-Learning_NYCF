{
 "cells": [
  {
   "cell_type": "markdown",
   "metadata": {},
   "source": [
    "## 3.7 softmax回归的简洁实现"
   ]
  },
  {
   "cell_type": "markdown",
   "metadata": {},
   "source": [
    "我们在[“线性回归的简洁实现”](linear-regression-gluon.ipynb)一节中已经了解了使用Gluon实现模型的便利。下面，让我们再次使用Gluon来实现一个softmax回归模型。首先导入所需的包或模块。"
   ]
  },
  {
   "cell_type": "code",
   "execution_count": 2,
   "metadata": {},
   "outputs": [],
   "source": [
    "%matplotlib inline\n",
    "import d2lzh as d2l\n",
    "from mxnet import gluon, init\n",
    "from mxnet.gluon import loss as gloss, nn"
   ]
  },
  {
   "cell_type": "markdown",
   "metadata": {},
   "source": [
    "### 3.7.1 获取和读取数据"
   ]
  },
  {
   "cell_type": "markdown",
   "metadata": {},
   "source": [
    "我们仍然使用Fashion-MNIST数据集和上一节中设置的批量大小。"
   ]
  },
  {
   "cell_type": "code",
   "execution_count": 3,
   "metadata": {},
   "outputs": [],
   "source": [
    "batch_size = 256\n",
    "train_iter, test_iter = d2l.load_data_fashion_mnist(batch_size)"
   ]
  },
  {
   "cell_type": "markdown",
   "metadata": {},
   "source": [
    "### 3.7.2 定义和初始化模型"
   ]
  },
  {
   "cell_type": "markdown",
   "metadata": {},
   "source": [
    "在[“softmax回归”](softmax-regression.ipynb)一节中提到，softmax回归的输出层是一个全连接层。因此，我们添加一个输出个数为10的全连接层。我们使用均值为0、标准差为0.01的正态分布随机初始化模型的权重参数。"
   ]
  },
  {
   "cell_type": "code",
   "execution_count": 4,
   "metadata": {},
   "outputs": [],
   "source": [
    "net = nn.Sequential()\n",
    "net.add(nn.Dense(10))\n",
    "net.initialize(init.Normal(sigma=0.01))"
   ]
  },
  {
   "cell_type": "markdown",
   "metadata": {},
   "source": [
    "### 3.7.3 softmax和交叉熵损失函数"
   ]
  },
  {
   "cell_type": "markdown",
   "metadata": {},
   "source": [
    "如果做了上一节的练习，那么你可能意识到了分开定义softmax运算和交叉熵损失函数可能会造成数值不稳定。因此，Gluon提供了一个包括softmax运算和交叉熵损失计算的函数。它的数值稳定性更好。"
   ]
  },
  {
   "cell_type": "code",
   "execution_count": 5,
   "metadata": {},
   "outputs": [],
   "source": [
    "loss = gloss.SoftmaxCrossEntropyLoss()"
   ]
  },
  {
   "cell_type": "markdown",
   "metadata": {},
   "source": [
    "### 3.7.4 定义优化算法"
   ]
  },
  {
   "cell_type": "markdown",
   "metadata": {},
   "source": [
    "我们使用学习率为0.1的小批量随机梯度下降作为优化算法。"
   ]
  },
  {
   "cell_type": "code",
   "execution_count": 7,
   "metadata": {},
   "outputs": [],
   "source": [
    "trainer = gluon.Trainer(net.collect_params(), 'sgd', {'learning_rate': 0.1})"
   ]
  },
  {
   "cell_type": "markdown",
   "metadata": {},
   "source": [
    "### 3.7.5 训练模型"
   ]
  },
  {
   "cell_type": "markdown",
   "metadata": {},
   "source": [
    "接下来，我们使用上一节中定义的训练函数来训练模型。"
   ]
  },
  {
   "cell_type": "code",
   "execution_count": 9,
   "metadata": {},
   "outputs": [
    {
     "name": "stdout",
     "output_type": "stream",
     "text": [
      "epoch 1, loss 0.7895, train acc 0.746, test acc 0.803\n",
      "epoch 2, loss 0.5727, train acc 0.812, test acc 0.825\n",
      "epoch 3, loss 0.5297, train acc 0.824, test acc 0.833\n",
      "epoch 4, loss 0.5051, train acc 0.830, test acc 0.829\n",
      "epoch 5, loss 0.4902, train acc 0.835, test acc 0.841\n",
      "epoch 6, loss 0.4778, train acc 0.838, test acc 0.845\n",
      "epoch 7, loss 0.4693, train acc 0.841, test acc 0.846\n",
      "epoch 8, loss 0.4617, train acc 0.844, test acc 0.844\n",
      "epoch 9, loss 0.4561, train acc 0.845, test acc 0.848\n",
      "epoch 10, loss 0.4517, train acc 0.845, test acc 0.845\n",
      "epoch 11, loss 0.4469, train acc 0.847, test acc 0.852\n",
      "epoch 12, loss 0.4433, train acc 0.848, test acc 0.843\n",
      "epoch 13, loss 0.4399, train acc 0.850, test acc 0.852\n",
      "epoch 14, loss 0.4371, train acc 0.850, test acc 0.851\n",
      "epoch 15, loss 0.4345, train acc 0.851, test acc 0.850\n",
      "epoch 16, loss 0.4318, train acc 0.853, test acc 0.851\n",
      "epoch 17, loss 0.4300, train acc 0.853, test acc 0.851\n",
      "epoch 18, loss 0.4278, train acc 0.853, test acc 0.853\n",
      "epoch 19, loss 0.4249, train acc 0.855, test acc 0.852\n",
      "epoch 20, loss 0.4249, train acc 0.855, test acc 0.857\n"
     ]
    }
   ],
   "source": [
    "num_epochs = 20\n",
    "d2l.train_ch3(net, train_iter, test_iter, loss, num_epochs, batch_size, None,\n",
    "             None, trainer)"
   ]
  },
  {
   "cell_type": "markdown",
   "metadata": {},
   "source": [
    "## 小结"
   ]
  },
  {
   "cell_type": "markdown",
   "metadata": {},
   "source": [
    "- Gluon提供的函数往往具有更好的数值稳定性。\n",
    "- 可以使用Gluon更简洁地实现softmax回归。"
   ]
  },
  {
   "cell_type": "markdown",
   "metadata": {},
   "source": [
    "## 练习"
   ]
  },
  {
   "cell_type": "markdown",
   "metadata": {},
   "source": [
    "- 尝试调一调超参数，如批量大小、迭代周期和学习率，看看结果会怎么样？"
   ]
  },
  {
   "cell_type": "code",
   "execution_count": 10,
   "metadata": {},
   "outputs": [
    {
     "name": "stdout",
     "output_type": "stream",
     "text": [
      "epoch 1, loss 0.4480, train acc 0.844, test acc 0.854\n",
      "epoch 2, loss 0.4522, train acc 0.843, test acc 0.854\n",
      "epoch 3, loss 0.4511, train acc 0.844, test acc 0.855\n",
      "epoch 4, loss 0.4392, train acc 0.849, test acc 0.853\n",
      "epoch 5, loss 0.4357, train acc 0.849, test acc 0.850\n",
      "epoch 6, loss 0.4341, train acc 0.850, test acc 0.857\n",
      "epoch 7, loss 0.4361, train acc 0.850, test acc 0.857\n",
      "epoch 8, loss 0.4357, train acc 0.850, test acc 0.853\n",
      "epoch 9, loss 0.4239, train acc 0.854, test acc 0.855\n",
      "epoch 10, loss 0.4299, train acc 0.852, test acc 0.857\n",
      "epoch 11, loss 0.4237, train acc 0.853, test acc 0.844\n",
      "epoch 12, loss 0.4220, train acc 0.854, test acc 0.855\n",
      "epoch 13, loss 0.4228, train acc 0.854, test acc 0.858\n",
      "epoch 14, loss 0.4215, train acc 0.855, test acc 0.857\n",
      "epoch 15, loss 0.4298, train acc 0.852, test acc 0.855\n",
      "epoch 16, loss 0.4199, train acc 0.855, test acc 0.858\n",
      "epoch 17, loss 0.4235, train acc 0.854, test acc 0.858\n",
      "epoch 18, loss 0.4229, train acc 0.854, test acc 0.849\n",
      "epoch 19, loss 0.4226, train acc 0.853, test acc 0.858\n",
      "epoch 20, loss 0.4165, train acc 0.856, test acc 0.860\n"
     ]
    }
   ],
   "source": [
    "# 调节批量大小256->128\n",
    "batch_size = 128\n",
    "num_epochs = 20\n",
    "d2l.train_ch3(net, train_iter, test_iter, loss, num_epochs, batch_size, None,\n",
    "             None, trainer)"
   ]
  },
  {
   "cell_type": "code",
   "execution_count": 11,
   "metadata": {},
   "outputs": [
    {
     "name": "stdout",
     "output_type": "stream",
     "text": [
      "epoch 1, loss 0.3936, train acc 0.864, test acc 0.857\n",
      "epoch 2, loss 0.3922, train acc 0.865, test acc 0.858\n",
      "epoch 3, loss 0.3925, train acc 0.865, test acc 0.858\n",
      "epoch 4, loss 0.3922, train acc 0.866, test acc 0.859\n",
      "epoch 5, loss 0.3914, train acc 0.865, test acc 0.858\n",
      "epoch 6, loss 0.3905, train acc 0.865, test acc 0.859\n",
      "epoch 7, loss 0.3905, train acc 0.865, test acc 0.858\n",
      "epoch 8, loss 0.3897, train acc 0.866, test acc 0.859\n",
      "epoch 9, loss 0.3896, train acc 0.866, test acc 0.859\n",
      "epoch 10, loss 0.3897, train acc 0.867, test acc 0.857\n"
     ]
    }
   ],
   "source": [
    "# 调节迭代周期20->10\n",
    "batch_size = 256\n",
    "num_epochs = 10\n",
    "d2l.train_ch3(net, train_iter, test_iter, loss, num_epochs, batch_size, None,\n",
    "             None, trainer)"
   ]
  },
  {
   "cell_type": "code",
   "execution_count": 12,
   "metadata": {},
   "outputs": [
    {
     "name": "stdout",
     "output_type": "stream",
     "text": [
      "epoch 1, loss 0.3847, train acc 0.868, test acc 0.858\n",
      "epoch 2, loss 0.3844, train acc 0.868, test acc 0.858\n",
      "epoch 3, loss 0.3844, train acc 0.868, test acc 0.858\n",
      "epoch 4, loss 0.3844, train acc 0.868, test acc 0.858\n",
      "epoch 5, loss 0.3843, train acc 0.868, test acc 0.858\n",
      "epoch 6, loss 0.3842, train acc 0.868, test acc 0.857\n",
      "epoch 7, loss 0.3842, train acc 0.868, test acc 0.858\n",
      "epoch 8, loss 0.3841, train acc 0.868, test acc 0.857\n",
      "epoch 9, loss 0.3842, train acc 0.868, test acc 0.857\n",
      "epoch 10, loss 0.3842, train acc 0.868, test acc 0.858\n",
      "epoch 11, loss 0.3840, train acc 0.868, test acc 0.858\n",
      "epoch 12, loss 0.3841, train acc 0.868, test acc 0.858\n",
      "epoch 13, loss 0.3840, train acc 0.868, test acc 0.857\n",
      "epoch 14, loss 0.3840, train acc 0.868, test acc 0.858\n",
      "epoch 15, loss 0.3839, train acc 0.868, test acc 0.857\n",
      "epoch 16, loss 0.3840, train acc 0.867, test acc 0.858\n",
      "epoch 17, loss 0.3839, train acc 0.868, test acc 0.857\n",
      "epoch 18, loss 0.3839, train acc 0.868, test acc 0.858\n",
      "epoch 19, loss 0.3839, train acc 0.868, test acc 0.858\n",
      "epoch 20, loss 0.3838, train acc 0.869, test acc 0.858\n"
     ]
    }
   ],
   "source": [
    "# 调节学习率0.1->0.01\n",
    "trainer = gluon.Trainer(net.collect_params(), 'sgd', {'learning_rate': 0.01})\n",
    "batch_size = 256\n",
    "num_epochs = 20\n",
    "d2l.train_ch3(net, train_iter, test_iter, loss, num_epochs, batch_size, None,\n",
    "             None, trainer)"
   ]
  },
  {
   "cell_type": "code",
   "execution_count": null,
   "metadata": {},
   "outputs": [],
   "source": []
  }
 ],
 "metadata": {
  "kernelspec": {
   "display_name": "Python 3",
   "language": "python",
   "name": "python3"
  },
  "language_info": {
   "codemirror_mode": {
    "name": "ipython",
    "version": 3
   },
   "file_extension": ".py",
   "mimetype": "text/x-python",
   "name": "python",
   "nbconvert_exporter": "python",
   "pygments_lexer": "ipython3",
   "version": "3.6.12"
  }
 },
 "nbformat": 4,
 "nbformat_minor": 4
}
